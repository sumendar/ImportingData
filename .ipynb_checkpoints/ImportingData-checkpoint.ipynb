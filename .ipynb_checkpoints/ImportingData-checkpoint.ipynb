{
 "cells": [
  {
   "cell_type": "markdown",
   "metadata": {},
   "source": [
    "## Importing Using base functions  \n",
    "\n",
    "- read.table()  \n",
    "- read.csv()  \n",
    "- read.csv2()  \n",
    "- read.delim()  \n",
    "- read.delim2() "
   ]
  },
  {
   "cell_type": "markdown",
   "metadata": {},
   "source": [
    "The main Differences  \n",
    "<img src=\"images/New Bitmap Image.jpg\"/>"
   ]
  },
  {
   "cell_type": "markdown",
   "metadata": {},
   "source": [
    "### read.table()    \n",
    "<img src='images/Tutorial for Importing Data from Flat files in R.png'>"
   ]
  },
  {
   "cell_type": "code",
   "execution_count": null,
   "metadata": {
    "collapsed": true,
    "run_control": {
     "frozen": false,
     "read_only": false
    },
    "scrolled": true
   },
   "outputs": [],
   "source": [
    "data <- read.table('./data/RandomFile.txt')    # create data frame object"
   ]
  },
  {
   "cell_type": "code",
   "execution_count": null,
   "metadata": {
    "collapsed": true,
    "run_control": {
     "frozen": false,
     "read_only": false
    }
   },
   "outputs": [],
   "source": [
    "print(data)\n",
    "class(data)\n",
    "class(data[, 1])    # get the class of the first column\n",
    "class(data[, 2])    # get the class of the second column or u can use below\n",
    "class(data$V2)    # get the class of the second column"
   ]
  },
  {
   "cell_type": "code",
   "execution_count": null,
   "metadata": {
    "collapsed": true,
    "run_control": {
     "frozen": false,
     "read_only": false
    }
   },
   "outputs": [],
   "source": [
    "rm(data)\n",
    "data <- read.table('Data/randomFile.txt'\n",
    "                  , header = T\n",
    "                  , colClasses = c(\"numeric\", \"character\"))"
   ]
  },
  {
   "cell_type": "code",
   "execution_count": null,
   "metadata": {
    "collapsed": true,
    "run_control": {
     "frozen": false,
     "read_only": false
    },
    "scrolled": true
   },
   "outputs": [],
   "source": [
    "print(data)\n",
    "class(data)\n",
    "class(data[,2])\n",
    "class(data[,1])"
   ]
  },
  {
   "cell_type": "markdown",
   "metadata": {
    "run_control": {
     "frozen": false,
     "read_only": false
    }
   },
   "source": [
    "## Importing data from excel \n",
    "* readxl package \n",
    "* xlsx package\n",
    "- readr package\n",
    "    - read_delim\n",
    "    - read_csv\n",
    "    - read_tsv    \n",
    "- XLConnect package\n",
    "- gdata package\n",
    "- openxlsx package\n",
    "    "
   ]
  },
  {
   "cell_type": "markdown",
   "metadata": {},
   "source": [
    "### readxl package "
   ]
  },
  {
   "cell_type": "code",
   "execution_count": null,
   "metadata": {
    "collapsed": true,
    "run_control": {
     "frozen": false,
     "read_only": false
    }
   },
   "outputs": [],
   "source": [
    "readxl package:\n",
    "# Load the readxl package\n",
    "library(readxl)\n",
    "# Print out the names of both spreadsheets\n",
    "excel_sheets(\"latitude.xlsx\")\n",
    "\n",
    "\n",
    "Import an Excel sheet\n",
    "# The readxl package is already loaded\n",
    "# Read the first sheet of latitude.xlsx: latitude_1\n",
    "latitude_1 <- read_excel(\"latitude.xlsx\", sheet = 1)\n",
    "# Read the second sheet of latitude.xlsx: latitude_2\n",
    "latitude_2 <- read_excel(\"latitude.xlsx\", sheet = \"1900\")\n",
    "# Put latitude_1 and latitude_2 in a list: lat_list\n",
    "lat_list <- list(latitude_1, latitude_2)\n",
    "# Display the structure of lat_list\n",
    "str(lat_list)\n",
    "Reading a workbook\n",
    "# The readxl package is already loaded\n",
    "# Read all Excel sheets with lapply(): lat_list\n",
    "lat_list <- lapply(excel_sheets(\"latitude.xlsx\"), read_excel,\n",
    "path = \"latitude.xlsx\")\n",
    "# Display the structure of latitude_wb\n",
    "str(lat_list)"
   ]
  },
  {
   "cell_type": "markdown",
   "metadata": {},
   "source": [
    "### readr package"
   ]
  },
  {
   "cell_type": "code",
   "execution_count": null,
   "metadata": {
    "collapsed": true,
    "run_control": {
     "frozen": false,
     "marked": false,
     "read_only": false
    }
   },
   "outputs": [],
   "source": [
    "# read_delim \n",
    "# Load the readr package\n",
    "library(readr)\n",
    "# Import potatoes.txt using read_delim(): potatoes\n",
    "potatoes <- read_delim(\"potatoes.txt\", delim = \"\\t\")\n",
    "# Print out potatoes\n",
    "potatoes\n",
    "\n",
    "# read_csv (readr package)\n",
    "# readr is already loaded\n",
    "# Column names\n",
    "properties <- c(\"area\", \"temp\", \"size\", \"storage\", \"method\",\n",
    "\"texture\", \"flavor\", \"moistness\")\n",
    "# Import potatoes.csv with read_csv(): potatoes\n",
    "potatoes <- read_csv(\"potatoes.csv\", col_names = properties)"
   ]
  },
  {
   "cell_type": "markdown",
   "metadata": {},
   "source": [
    "### XLConnect package"
   ]
  },
  {
   "cell_type": "code",
   "execution_count": null,
   "metadata": {
    "collapsed": true,
    "run_control": {
     "frozen": false,
     "read_only": false
    }
   },
   "outputs": [],
   "source": [
    "using XLConnect package\n",
    "#Alternatively, we can use the function loadWorkbook from the XLConnect package to read the entire workbook, and then load the worksheets with readWorksheet. The XLConnect package requires Java to be pre-installed.\n",
    "\n",
    "library(XLConnect)                # load XLConnect package \n",
    "wk = loadWorkbook( \"mydata.xls\") \n",
    "df = readWorksheet(wk, sheet= \"Sheet1\")\n"
   ]
  },
  {
   "cell_type": "markdown",
   "metadata": {},
   "source": [
    "### gdata Package"
   ]
  },
  {
   "cell_type": "code",
   "execution_count": null,
   "metadata": {
    "collapsed": true,
    "run_control": {
     "frozen": false,
     "read_only": false
    }
   },
   "outputs": [],
   "source": [
    "# Load the gdata package\n",
    "library(gdata)\n",
    "# Import the second sheet of urbanpop.xls: urban_pop\n",
    "urban_pop <- read.xls(\"urbanpop.xls\", sheet = \"1967-1974\")\n",
    "# Print the first 11 observations using head()\n",
    "head(urban_pop, n = 11)"
   ]
  },
  {
   "cell_type": "markdown",
   "metadata": {},
   "source": [
    "## Importing Statistical Software Files"
   ]
  },
  {
   "cell_type": "markdown",
   "metadata": {
    "run_control": {
     "frozen": false,
     "read_only": false
    }
   },
   "source": [
    "- haven package\n",
    "    - read_sas\n",
    "    - read_spss\n",
    "    - read_stata\n",
    "- foreign package\n",
    "- Hmisc package"
   ]
  },
  {
   "cell_type": "markdown",
   "metadata": {},
   "source": [
    "#### haven package"
   ]
  },
  {
   "cell_type": "code",
   "execution_count": null,
   "metadata": {
    "collapsed": true,
    "run_control": {
     "frozen": false,
     "read_only": false
    }
   },
   "outputs": [],
   "source": [
    "# haven package:\n",
    "# for SAS\n",
    "install.packages(\"haven\")\n",
    "library(haven)\n",
    "ontime <- read_sas(\"ontime.sas7bdat\")\n",
    "# for STATA:\n",
    "ontime <- read_stata(\"ontime.dta\")\n",
    "ontime <- read_dta(\"ontime.dta\")\n",
    "# for SPSS:\n",
    "ontime <- read_spss(\"person.sav\")"
   ]
  },
  {
   "cell_type": "markdown",
   "metadata": {
    "run_control": {
     "frozen": false,
     "read_only": false
    }
   },
   "source": [
    "## Importing Data from Databases\n",
    "- MySQL\n",
    "- SQLite"
   ]
  },
  {
   "cell_type": "code",
   "execution_count": null,
   "metadata": {
    "collapsed": true,
    "run_control": {
     "frozen": false,
     "read_only": false
    }
   },
   "outputs": [],
   "source": [
    "### MySQL"
   ]
  },
  {
   "cell_type": "markdown",
   "metadata": {},
   "source": [
    "###### Create a database then table and insert values into mysql it by following the below instructions from the link: http://www.wikihow.com/Create-a-Database-in-MySQL  \n"
   ]
  },
  {
   "cell_type": "code",
   "execution_count": null,
   "metadata": {
    "collapsed": true,
    "run_control": {
     "frozen": false,
     "read_only": false
    }
   },
   "outputs": [],
   "source": [
    "#Connecting to MySQL is made very easy with the RMySQL package. To connect to a MySQL database \n",
    "#simply install the package and load the library.\n",
    "install.packages(\"RMySQL\")\n",
    "library(RMySQL)"
   ]
  },
  {
   "cell_type": "markdown",
   "metadata": {},
   "source": [
    " ##### create a database connection object  \n",
    "`mydb = dbConnect(MySQL(), user='user', password='password', dbname='database_name', host='host') `"
   ]
  },
  {
   "cell_type": "code",
   "execution_count": null,
   "metadata": {
    "collapsed": true,
    "run_control": {
     "frozen": false,
     "read_only": false
    }
   },
   "outputs": [],
   "source": [
    "# in our case \n",
    "mydb = dbConnect(MySQL(), user='root', password='m******3', dbname='us_states', host='localhost')"
   ]
  },
  {
   "cell_type": "markdown",
   "metadata": {},
   "source": [
    "###### Listing Tables and Fields:"
   ]
  },
  {
   "cell_type": "code",
   "execution_count": null,
   "metadata": {
    "collapsed": true,
    "run_control": {
     "frozen": false,
     "read_only": false
    }
   },
   "outputs": [],
   "source": [
    "#list the tables \n",
    "dbListTables(mydb) #This will return a list of the tables in our connection. \n",
    "dbListFields(mydb, 'some_table') # This will return a list of the fields in some_table.\n"
   ]
  },
  {
   "cell_type": "markdown",
   "metadata": {},
   "source": [
    "###### Running Queries:\n"
   ]
  },
  {
   "cell_type": "code",
   "execution_count": null,
   "metadata": {
    "collapsed": true,
    "run_control": {
     "frozen": false,
     "read_only": false
    }
   },
   "outputs": [],
   "source": [
    "# ueries can be run using the dbSendQuery function.\n",
    "dbSendQuery(mydb, 'drop table if exists some_table, some_other_table')"
   ]
  },
  {
   "cell_type": "markdown",
   "metadata": {},
   "source": [
    "###### Making tables:"
   ]
  },
  {
   "cell_type": "code",
   "execution_count": null,
   "metadata": {
    "collapsed": true,
    "run_control": {
     "frozen": false,
     "marked": false,
     "read_only": false
    }
   },
   "outputs": [],
   "source": [
    "#We can create tables in the database using R dataframes.\n",
    "\n",
    "dbWriteTable(mydb, name='table_name', value=data.frame.name)"
   ]
  },
  {
   "cell_type": "markdown",
   "metadata": {},
   "source": [
    "###### Retrieving data from MySQL:"
   ]
  },
  {
   "cell_type": "code",
   "execution_count": null,
   "metadata": {
    "collapsed": true,
    "run_control": {
     "frozen": false,
     "read_only": false
    }
   },
   "outputs": [],
   "source": [
    "# To retrieve data from the database we need to save a results set object.\n",
    "\n",
    "rs = dbSendQuery(mydb, \"select * from some_table\")\n",
    "\n",
    "# I believe that the results of this query remain on the MySQL server, to access the results in R \n",
    "#we need to use the fetch function.\n",
    "\n",
    "data = fetch(rs, n=-1)\n",
    "\n",
    "#This saves the results of the query as a data frame object. The n in the function specifies the number of records to retrieve, using n=-1 retrieves all pending records."
   ]
  },
  {
   "cell_type": "markdown",
   "metadata": {},
   "source": [
    "### SQLite"
   ]
  },
  {
   "cell_type": "code",
   "execution_count": null,
   "metadata": {
    "collapsed": true,
    "run_control": {
     "frozen": false,
     "read_only": false
    }
   },
   "outputs": [],
   "source": [
    "install.packages(\"RSQLite\")\n",
    "library(RSQLite)\n",
    "library(DBI)\n",
    "# connect to the sqlite file\n",
    "DB <- dbConnect(SQLite(), dbname = \"C:/sqlite/learn.db\")\n",
    "dbListTables(DB)\n",
    "dbGetQuery(DB, 'SELECT * FROM learnTb')\n"
   ]
  },
  {
   "cell_type": "markdown",
   "metadata": {},
   "source": [
    "## Importing data from google sheets \n",
    "- googlesheets package"
   ]
  },
  {
   "cell_type": "markdown",
   "metadata": {},
   "source": [
    "#### googlesheets package"
   ]
  },
  {
   "cell_type": "code",
   "execution_count": null,
   "metadata": {
    "collapsed": true,
    "run_control": {
     "frozen": false,
     "marked": true,
     "read_only": false
    }
   },
   "outputs": [],
   "source": [
    "#googlesheets package\n",
    "gs_ls()\n",
    "data <- gs_title(\"Superstore Sales.xls\")\n",
    "View(data)\n",
    "data <- gs_key()\n",
    "myGoogleSPData<-gs_read(data)\n",
    "View(myGoogleSPData)"
   ]
  },
  {
   "cell_type": "markdown",
   "metadata": {},
   "source": [
    "## Using Clipboard Copied data"
   ]
  },
  {
   "cell_type": "code",
   "execution_count": null,
   "metadata": {
    "collapsed": true,
    "run_control": {
     "frozen": false,
     "read_only": false
    }
   },
   "outputs": [],
   "source": [
    "# import copied clipboard data into R\n",
    "my_data <- read.table(file = \"clipboard\",header=TRUE)\n",
    "my_data1 <- read.csv(file = \"clipboard\",header = FALSE,sep = \",\")\n",
    "setwd(\"D:/Google Drive/Box/batch@730AM/2016-09-13 Importing Data\")                    \n",
    "my_data1 <- read.csv(\"clipboard\",header = FALSE)"
   ]
  },
  {
   "cell_type": "markdown",
   "metadata": {},
   "source": [
    "## Importing XML Data Into R  "
   ]
  },
  {
   "cell_type": "markdown",
   "metadata": {},
   "source": [
    "XML is a markup language that is commonly used to interchange data over the Internet. If you want to access some online data over a webpage’s API you are likely to get it in XML format. So here is a very simple example of how to deal with XML in R.\n",
    "The XML document (taken from w3schools.com) used in this example describes a fictive plant catalog. Not"
   ]
  },
  {
   "cell_type": "markdown",
   "metadata": {},
   "source": [
    "#### How to parse/read this XML-document into R?"
   ]
  },
  {
   "cell_type": "code",
   "execution_count": null,
   "metadata": {
    "collapsed": true,
    "run_control": {
     "frozen": false,
     "read_only": false
    }
   },
   "outputs": [],
   "source": [
    "setwd(\"D:/Google Drive/Box/batch@730AM/2016-09-13 Importing Data\")"
   ]
  },
  {
   "cell_type": "code",
   "execution_count": null,
   "metadata": {
    "collapsed": true,
    "run_control": {
     "frozen": false,
     "read_only": false
    }
   },
   "outputs": [],
   "source": [
    "# install and load the necessary package\n",
    "#install.packages(\"XML\")\n",
    "library(\"XML\", lib.loc=\"~/R/win-library/3.3\")\n",
    "# Save the URL of the xml file in a variable\n",
    "\n",
    "xml.url <- \"http://www.w3schools.com/xml/plant_catalog.xml\"\n",
    "# Use the xmlTreePares-function to parse xml file directly from the web\n",
    " \n",
    "xmlfile <- xmlTreeParse(xml.url)\n",
    "# the xml file is now saved as an object you can easily work with in R:\n",
    "class(xmlfile)\n",
    "# Use the xmlRoot-function to access the top node\n",
    "xmltop = xmlRoot(xmlfile)\n",
    "# have a look at the XML-code of the first subnodes:\n",
    "print(xmltop)[1:2]"
   ]
  },
  {
   "cell_type": "markdown",
   "metadata": {},
   "source": [
    "One can already assume how this data should look like in a matrix or data frame. The goal is to extract the XML-values from each XML-tag <> for all $PLANT nodes and save them in a data frame with a row for each plant ($PLANT-node) and a column for each tag (variable) describing it. How can you do that?"
   ]
  },
  {
   "cell_type": "code",
   "execution_count": null,
   "metadata": {
    "collapsed": true,
    "run_control": {
     "frozen": false,
     "read_only": false
    },
    "scrolled": true
   },
   "outputs": [],
   "source": [
    "# To extract the XML-values from the document, use xmlSApply:\n",
    "\n",
    "plantcat <- xmlSApply(xmltop, function(x) xmlSApply(x, xmlValue))\n",
    "\n",
    "\n",
    "# Finally, get the data in a data-frame and have a look at the first rows and columns\n",
    "\n",
    "plantcat_df <- data.frame(t(plantcat),row.names=NULL)\n",
    "dim(plantcat_df)\n",
    "plantcat_df[1:5,1:4]\n",
    "head(plantcat_df)\n"
   ]
  },
  {
   "cell_type": "markdown",
   "metadata": {},
   "source": [
    "#### Importing JavaScript Object Notation (JSON) Files Into R"
   ]
  },
  {
   "cell_type": "markdown",
   "metadata": {},
   "source": [
    "JSON file stores data as text in human-readable format."
   ]
  },
  {
   "cell_type": "markdown",
   "metadata": {},
   "source": [
    "#### Install rjson Package and  load "
   ]
  },
  {
   "cell_type": "code",
   "execution_count": null,
   "metadata": {
    "collapsed": true,
    "run_control": {
     "frozen": false,
     "read_only": false
    }
   },
   "outputs": [],
   "source": [
    "#Install rjson Package\n",
    "#install.packages(\"rjson\")\n",
    "# Load the package required to read JSON files.\n",
    "library(\"rjson\", lib.loc=\"~/R/win-library/3.3\")\n"
   ]
  },
  {
   "cell_type": "markdown",
   "metadata": {},
   "source": [
    "Create a JSON file by copying the below data into a text editor like notepad. Save the file with a **.json** extension and choosing the file type as all files(*.*)."
   ]
  },
  {
   "cell_type": "markdown",
   "metadata": {},
   "source": [
    "`{`   \n",
    "   `\"ID\":[\"1\",\"2\",\"3\",\"4\",\"5\",\"6\",\"7\",\"8\" ],`  \n",
    "   `\"Name\":[\"Rick\",\"Dan\",\"Michelle\",\"Ryan\",\"Gary\",\"Nina\",\"Simon\",\"Guru\" ],`  \n",
    "   `\"Salary\":[\"623.3\",\"515.2\",\"611\",\"729\",\"843.25\",\"578\",\"632.8\",\"722.5\" ],`  \n",
    "   \n",
    "   `\"StartDate\":[ \"1/1/2012\",\"9/23/2013\",\"11/15/2014\",\"5/11/2014\",\"3/27/2015\",\"5/21/2013\",`  \n",
    "      `\"7/30/2013\",\"6/17/2014\"],`  \n",
    "   `\"Dept\":[ \"IT\",\"Operations\",\"IT\",\"HR\",\"Finance\",\"IT\",\"Operations\",\"Finance\"]`    \n",
    "`}` "
   ]
  },
  {
   "cell_type": "markdown",
   "metadata": {},
   "source": [
    "#### Read the JSON File"
   ]
  },
  {
   "cell_type": "code",
   "execution_count": null,
   "metadata": {
    "collapsed": true,
    "run_control": {
     "frozen": false,
     "read_only": false
    }
   },
   "outputs": [],
   "source": [
    "# Give the input file name to the function.\n",
    "result <- fromJSON(file = \"myData.json\")\n",
    "# Print the result.\n",
    "print(result)"
   ]
  },
  {
   "cell_type": "markdown",
   "metadata": {},
   "source": [
    "#### Convert JSON to a Data Frame"
   ]
  },
  {
   "cell_type": "markdown",
   "metadata": {},
   "source": [
    "We can convert the extracted data above to a R data frame for further analysis using the `as.data.frame()` function."
   ]
  },
  {
   "cell_type": "code",
   "execution_count": null,
   "metadata": {
    "collapsed": true,
    "run_control": {
     "frozen": false,
     "read_only": false
    }
   },
   "outputs": [],
   "source": [
    "# Give the input file name to the function.\n",
    "result <- fromJSON(file = \"myData.json\")\n",
    "\n",
    "# Convert JSON file to a data frame.\n",
    "json_data_frame <- as.data.frame(result)\n",
    "\n",
    "print(json_data_frame)"
   ]
  },
  {
   "cell_type": "code",
   "execution_count": null,
   "metadata": {
    "collapsed": true,
    "run_control": {
     "frozen": false,
     "read_only": false
    }
   },
   "outputs": [],
   "source": [
    "#Example 2\n",
    "library(rjson)\n",
    "url <- \"http://open.mapquestapi.com/geocoding/v1/address?location=1600%20Pennsylvania%20Ave,%20Washington,%20DC&outFormat=json\"\n",
    " \n",
    "raw_json <- scan(url, \"\", sep=\"\\n\")\n",
    " \n",
    "mygeo <- fromJSON(raw_json)"
   ]
  },
  {
   "cell_type": "markdown",
   "metadata": {
    "collapsed": true
   },
   "source": [
    "#### Importing Data From HTML Tables Into R"
   ]
  },
  {
   "cell_type": "markdown",
   "metadata": {},
   "source": [
    "**Getting data From HTML tables into R.**  \n",
    "`url <- \"<a URL>\"`  \n",
    "`data_df <- readHTMLTable(url,`  \n",
    "                         `which=3)`  \n",
    "which argument allows you to specify which tables to return from within the document. if this gives you an error You can work around this by using the RCurl package in combination with the XML package to read in your data  "
   ]
  },
  {
   "cell_type": "code",
   "execution_count": null,
   "metadata": {
    "collapsed": true,
    "run_control": {
     "frozen": false,
     "read_only": false
    }
   },
   "outputs": [],
   "source": [
    "#library(XML)\n",
    "library(\"RCurl\", lib.loc=\"~/R/win-library/3.3\")\n",
    "\n",
    "url <- \"https://en.wikipedia.org/wiki/List_of_countries_and_dependencies_by_population\"\n",
    "\n",
    "urldata <- getURL(url)\n",
    "data <- readHTMLTable(urldata,\n",
    "                      stringsAsFactors = FALSE)\n",
    "print(data)"
   ]
  },
  {
   "cell_type": "markdown",
   "metadata": {},
   "source": [
    "you don't want the strings to be registered as factors or categorical variables! You can also use the httr package to accomplish exactly the same thing, except for the fact that you will want to convert the raw objects of the URL's content to characters by using the `rawToChar` argument:"
   ]
  },
  {
   "cell_type": "code",
   "execution_count": null,
   "metadata": {
    "collapsed": true,
    "run_control": {
     "frozen": false,
     "read_only": false
    }
   },
   "outputs": [],
   "source": [
    "library(httr)\n",
    "\n",
    "urldata <- GET(url)\n",
    "data <- readHTMLTable(rawToChar(urldata$content),\n",
    "                      stringsAsFactors = FALSE)"
   ]
  },
  {
   "cell_type": "markdown",
   "metadata": {},
   "source": [
    "#### rvest: Easy web scraping with R"
   ]
  },
  {
   "cell_type": "markdown",
   "metadata": {},
   "source": [
    "**rvest in action**  \n",
    "To see `rvest` in action, imagine we’d like to scrape some information about The Lego Movie from IMDB. We start by downloading and parsing the file with `html()`:  "
   ]
  },
  {
   "cell_type": "code",
   "execution_count": null,
   "metadata": {
    "collapsed": true,
    "run_control": {
     "frozen": false,
     "read_only": false
    }
   },
   "outputs": [],
   "source": [
    "#install.packages(\"rvest\",repos = \"http://cran.us.r-project.org\", type=\"source\")\n",
    "install.packages(\"C:/Users/Suman/AppData/Local/Temp/RtmpSiHuQJ/downloaded_packages/rvest_0.3.2.zip\", repos = NULL, type = \"win.binary\")"
   ]
  },
  {
   "cell_type": "code",
   "execution_count": null,
   "metadata": {
    "collapsed": true,
    "run_control": {
     "frozen": false,
     "read_only": false
    }
   },
   "outputs": [],
   "source": [
    "library(rvest, lib.loc=\"~/R/win-library/3.3\")\n",
    "library(xml2,lib.loc=\"~/R/win-library/3.3\")\n",
    "lego_movie <- html(\"http://www.imdb.com/title/tt1490017/\")\n",
    "#print(lego_movie)"
   ]
  },
  {
   "cell_type": "markdown",
   "metadata": {},
   "source": [
    "To extract the rating, we start with selectorgadget to figure out which css selector matches the data we want: strong span. (If you haven’t heard of selectorgadget, make sure to read vignette(\"selectorgadget\") – it’s the easiest way to determine which selector extracts the data that you’re interested in.) We use html_node() to find the first node that matches that selector, extract its contents with html_text(), and convert it to numeric with as.numeric():"
   ]
  },
  {
   "cell_type": "code",
   "execution_count": null,
   "metadata": {
    "collapsed": true,
    "run_control": {
     "frozen": false,
     "read_only": false
    }
   },
   "outputs": [],
   "source": [
    "lego_movie %>% \n",
    "  html_node(\"strong span\") %>%\n",
    "  html_text() %>%\n",
    "  as.numeric()"
   ]
  },
  {
   "cell_type": "markdown",
   "metadata": {},
   "source": [
    "We use a similar process to extract the cast, using html_nodes() to find all nodes that match the selector:"
   ]
  },
  {
   "cell_type": "code",
   "execution_count": null,
   "metadata": {
    "collapsed": true,
    "run_control": {
     "frozen": false,
     "read_only": false
    }
   },
   "outputs": [],
   "source": [
    "lego_movie %>%\n",
    "  html_nodes(\"#titleCast .itemprop span\") %>%\n",
    "  html_text()"
   ]
  },
  {
   "cell_type": "markdown",
   "metadata": {},
   "source": [
    "The titles and authors of recent message board postings are stored in a the third table on the page. We can use html_node() and [[ to find it, then coerce it to a data frame with html_table():"
   ]
  },
  {
   "cell_type": "code",
   "execution_count": null,
   "metadata": {
    "collapsed": true,
    "run_control": {
     "frozen": false,
     "read_only": false
    }
   },
   "outputs": [],
   "source": [
    "lego_movie %>%\n",
    "  html_nodes(\"table\") %>%\n",
    "  .[[3]] %>%\n",
    "  html_table()"
   ]
  },
  {
   "cell_type": "markdown",
   "metadata": {},
   "source": [
    "## Exporting or writing data "
   ]
  },
  {
   "cell_type": "code",
   "execution_count": null,
   "metadata": {
    "collapsed": true,
    "run_control": {
     "frozen": false,
     "read_only": false
    }
   },
   "outputs": [],
   "source": []
  }
 ],
 "metadata": {
  "kernelspec": {
   "display_name": "R",
   "language": "R",
   "name": "ir"
  },
  "language_info": {
   "codemirror_mode": "r",
   "file_extension": ".r",
   "mimetype": "text/x-r-source",
   "name": "R",
   "pygments_lexer": "r",
   "version": "3.3.2"
  }
 },
 "nbformat": 4,
 "nbformat_minor": 2
}
