{
 "cells": [
  {
   "cell_type": "markdown",
   "metadata": {},
   "source": [
    "## data.table package\n",
    "- The data.table R package provides an enhanced version of data.frame that allows you to do blazing fast data manipulations.\n",
    "- data.table package with the goal of reducing programming and compute time\n",
    "- working with large datasets (e.g. 1GB to 100GB in RAM)\n",
    "- data.table package has a number of operations such as selection. grouping, chaining, setting keys which are extremely fast compared to the data frame  \n",
    "**fread function:**     \n",
    "_cheatsheet from datacamp available here:_ https://s3.amazonaws.com/assets.datacamp.com/img/blog/data+table+cheat+sheet.pdf     \n",
    "_watch Video of data.table:_  \n",
    "https://www.youtube.com/watch?v=Z0gZuh5xsuo&feature=youtu.be&t=12s\n",
    "<img src = \"images/syntax1.jpg\"/>\n",
    "<img src = \"images/syntax2.jpg\"/>\n",
    "\n"
   ]
  },
  {
   "cell_type": "code",
   "execution_count": 8,
   "metadata": {
    "run_control": {
     "frozen": false,
     "read_only": false
    }
   },
   "outputs": [
    {
     "name": "stdout",
     "output_type": "stream",
     "text": [
      "  id code valA valB\n",
      "1  1  abc  0.1   11\n",
      "2  1  abc  0.6    7\n",
      "3  1  abd  1.5    5\n",
      "4  2  apq  0.9   10\n",
      "5  2  apq  0.3   13\n"
     ]
    }
   ],
   "source": [
    "# coding\n",
    "DF <- data.frame(id = c(1, 1, 1, 2, 2), code = c(\"abc\", \"abc\", \"abd\", \"apq\", \"apq\"), \n",
    "    valA = c(0.1, 0.6, 1.5, 0.9, 0.3), valB = c(11, 7, 5, 10, 13))\n",
    "print(DF)"
   ]
  },
  {
   "cell_type": "markdown",
   "metadata": {},
   "source": [
    "write R script for below pseudocode  \n",
    "` for code! = \"abd\"\n",
    "get sum(valA) `"
   ]
  },
  {
   "cell_type": "code",
   "execution_count": 14,
   "metadata": {
    "run_control": {
     "frozen": false,
     "read_only": false
    }
   },
   "outputs": [
    {
     "data": {
      "text/html": [
       "1.9"
      ],
      "text/latex": [
       "1.9"
      ],
      "text/markdown": [
       "1.9"
      ],
      "text/plain": [
       "[1] 1.9"
      ]
     },
     "metadata": {},
     "output_type": "display_data"
    }
   ],
   "source": [
    "sum(DF[DF$code!= \"abd\", \"valA\"])"
   ]
  },
  {
   "cell_type": "markdown",
   "metadata": {},
   "source": [
    "write R script for below pseudocode  \n",
    "  \n",
    "` for code!= \"abd\"\n",
    "get suma(valA) and sum(valB)\n",
    "for each id `"
   ]
  },
  {
   "cell_type": "code",
   "execution_count": 23,
   "metadata": {
    "run_control": {
     "frozen": false,
     "read_only": false
    },
    "scrolled": true
   },
   "outputs": [
    {
     "data": {
      "text/html": [
       "<table>\n",
       "<thead><tr><th scope=col>id</th><th scope=col>valA</th><th scope=col>valB</th></tr></thead>\n",
       "<tbody>\n",
       "\t<tr><td>1  </td><td>0.7</td><td>18 </td></tr>\n",
       "\t<tr><td>2  </td><td>1.2</td><td>23 </td></tr>\n",
       "</tbody>\n",
       "</table>\n"
      ],
      "text/latex": [
       "\\begin{tabular}{r|lll}\n",
       " id & valA & valB\\\\\n",
       "\\hline\n",
       "\t 1   & 0.7 & 18 \\\\\n",
       "\t 2   & 1.2 & 23 \\\\\n",
       "\\end{tabular}\n"
      ],
      "text/markdown": [
       "\n",
       "id | valA | valB | \n",
       "|---|---|\n",
       "| 1   | 0.7 | 18  | \n",
       "| 2   | 1.2 | 23  | \n",
       "\n",
       "\n"
      ],
      "text/plain": [
       "  id valA valB\n",
       "1 1  0.7  18  \n",
       "2 2  1.2  23  "
      ]
     },
     "metadata": {},
     "output_type": "display_data"
    }
   ],
   "source": [
    "aggregate(cbind(valA, valB)~id, DF[DF$code!=\"abd\",], sum)"
   ]
  },
  {
   "cell_type": "code",
   "execution_count": 20,
   "metadata": {
    "run_control": {
     "frozen": false,
     "read_only": false
    },
    "scrolled": true
   },
   "outputs": [
    {
     "data": {
      "text/html": [
       "<table>\n",
       "<tbody>\n",
       "\t<tr><td>0.1</td><td>11 </td></tr>\n",
       "\t<tr><td>0.6</td><td> 7 </td></tr>\n",
       "\t<tr><td>1.5</td><td> 5 </td></tr>\n",
       "\t<tr><td>0.9</td><td>10 </td></tr>\n",
       "\t<tr><td>0.3</td><td>13 </td></tr>\n",
       "</tbody>\n",
       "</table>\n"
      ],
      "text/latex": [
       "\\begin{tabular}{ll}\n",
       "\t 0.1 & 11 \\\\\n",
       "\t 0.6 &  7 \\\\\n",
       "\t 1.5 &  5 \\\\\n",
       "\t 0.9 & 10 \\\\\n",
       "\t 0.3 & 13 \\\\\n",
       "\\end{tabular}\n"
      ],
      "text/markdown": [
       "\n",
       "| 0.1 | 11  | \n",
       "| 0.6 |  7  | \n",
       "| 1.5 |  5  | \n",
       "| 0.9 | 10  | \n",
       "| 0.3 | 13  | \n",
       "\n",
       "\n"
      ],
      "text/plain": [
       "     [,1] [,2]\n",
       "[1,] 0.1  11  \n",
       "[2,] 0.6   7  \n",
       "[3,] 1.5   5  \n",
       "[4,] 0.9  10  \n",
       "[5,] 0.3  13  "
      ]
     },
     "metadata": {},
     "output_type": "display_data"
    }
   ],
   "source": [
    "cbind(DF$valA, DF$valB)"
   ]
  },
  {
   "cell_type": "code",
   "execution_count": 21,
   "metadata": {
    "run_control": {
     "frozen": false,
     "read_only": false
    },
    "scrolled": true
   },
   "outputs": [
    {
     "data": {
      "text/html": [
       "<table>\n",
       "<thead><tr><th></th><th scope=col>id</th><th scope=col>code</th><th scope=col>valA</th><th scope=col>valB</th></tr></thead>\n",
       "<tbody>\n",
       "\t<tr><th scope=row>1</th><td>1  </td><td>abc</td><td>0.1</td><td>11 </td></tr>\n",
       "\t<tr><th scope=row>2</th><td>1  </td><td>abc</td><td>0.6</td><td> 7 </td></tr>\n",
       "\t<tr><th scope=row>4</th><td>2  </td><td>apq</td><td>0.9</td><td>10 </td></tr>\n",
       "\t<tr><th scope=row>5</th><td>2  </td><td>apq</td><td>0.3</td><td>13 </td></tr>\n",
       "</tbody>\n",
       "</table>\n"
      ],
      "text/latex": [
       "\\begin{tabular}{r|llll}\n",
       "  & id & code & valA & valB\\\\\n",
       "\\hline\n",
       "\t1 & 1   & abc & 0.1 & 11 \\\\\n",
       "\t2 & 1   & abc & 0.6 &  7 \\\\\n",
       "\t4 & 2   & apq & 0.9 & 10 \\\\\n",
       "\t5 & 2   & apq & 0.3 & 13 \\\\\n",
       "\\end{tabular}\n"
      ],
      "text/markdown": [
       "\n",
       "| <!--/--> | id | code | valA | valB | \n",
       "|---|---|---|---|\n",
       "| 1 | 1   | abc | 0.1 | 11  | \n",
       "| 2 | 1   | abc | 0.6 |  7  | \n",
       "| 4 | 2   | apq | 0.9 | 10  | \n",
       "| 5 | 2   | apq | 0.3 | 13  | \n",
       "\n",
       "\n"
      ],
      "text/plain": [
       "  id code valA valB\n",
       "1 1  abc  0.1  11  \n",
       "2 1  abc  0.6   7  \n",
       "4 2  apq  0.9  10  \n",
       "5 2  apq  0.3  13  "
      ]
     },
     "metadata": {},
     "output_type": "display_data"
    }
   ],
   "source": [
    "DF[DF$code!=\"abd\",]"
   ]
  },
  {
   "cell_type": "markdown",
   "metadata": {},
   "source": [
    "write R script for below pseudocode  \n",
    "`for code == \"abd\"\n",
    "update valA\n",
    "with NA`"
   ]
  },
  {
   "cell_type": "code",
   "execution_count": 28,
   "metadata": {
    "collapsed": true,
    "run_control": {
     "frozen": false,
     "read_only": false
    }
   },
   "outputs": [],
   "source": [
    "DF[DF$code == \"abd\", \"valA\"] <- NA"
   ]
  },
  {
   "cell_type": "code",
   "execution_count": 27,
   "metadata": {
    "run_control": {
     "frozen": false,
     "read_only": false
    }
   },
   "outputs": [
    {
     "name": "stdout",
     "output_type": "stream",
     "text": [
      "  id code valA valB\n",
      "1  1  abc  0.1   11\n",
      "2  1  abc  0.6    7\n",
      "3  1  abd   NA    5\n",
      "4  2  apq  0.9   10\n",
      "5  2  apq  0.3   13\n"
     ]
    }
   ],
   "source": [
    "print(DF)"
   ]
  }
 ],
 "metadata": {
  "kernelspec": {
   "display_name": "R",
   "language": "R",
   "name": "ir"
  },
  "language_info": {
   "codemirror_mode": "r",
   "file_extension": ".r",
   "mimetype": "text/x-r-source",
   "name": "R",
   "pygments_lexer": "r",
   "version": "3.3.2"
  }
 },
 "nbformat": 4,
 "nbformat_minor": 2
}
